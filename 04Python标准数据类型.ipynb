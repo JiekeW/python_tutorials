{
 "cells": [
  {
   "cell_type": "code",
   "execution_count": 2,
   "metadata": {},
   "outputs": [],
   "source": [
    "var1 = 1 \n",
    "var2 = 10\n",
    "\n",
    "del var1, var2"
   ]
  },
  {
   "cell_type": "code",
   "execution_count": 16,
   "metadata": {},
   "outputs": [
    {
     "name": "stdout",
     "output_type": "stream",
     "text": [
      "<class 'int'>\n",
      "<class 'float'>\n",
      "<class 'complex'>\n",
      "24\n",
      "28\n",
      "24\n",
      "32\n"
     ]
    }
   ],
   "source": [
    "import sys\n",
    "print(type(12))  # <class 'int'>  \n",
    "print(type(3.14))  # <class 'float'>  \n",
    "print(type(1+2j))  # <class 'complex'>   \n",
    "print(sys.getsizeof(0))  # 24  \n",
    "print(sys.getsizeof(24))  # 28  \n",
    "print(sys.getsizeof(3.14))  # 24 \n",
    "print(sys.getsizeof(3+4j))  # 32"
   ]
  },
  {
   "cell_type": "code",
   "execution_count": 18,
   "metadata": {},
   "outputs": [
    {
     "name": "stdout",
     "output_type": "stream",
     "text": [
      "257\n"
     ]
    }
   ],
   "source": [
    "# float转int \n",
    "# 1.向下取整 \n",
    "int(3.14)  # 3 \n",
    "int(9.99)  # 9 \n",
    "\n",
    "# 2.四舍五入 \n",
    "round(3.14)  # 3 \n",
    "round(9.99)  # 10 \n",
    "\n",
    "# 3.向上取整 \n",
    "import math \n",
    "math.ceil(3.14)  # 4 \n",
    "math.ceil(9.99)  # 10 \n",
    "\n",
    "# 二进制、八进制、十进制、十六进制转换 \n",
    "# 1.十进制转二进制 \n",
    "bin(12)  # '0b1100', '0b'开头 \n",
    "\n",
    "# 2.十进制转八进制 \n",
    "oct(8)  # '0o10', '0o'开头 \n",
    "\n",
    "# 3.十进制转十六进制 \n",
    "hex(16)  # '0x10', '0x'开头 \n",
    "\n",
    "# 4.其他进制转十进制 \n",
    "int('0b101', 2)  # 5, 二进制 \n",
    "int('0o7654321', 8)  # 2054353, 八进制 \n",
    "int('0x2521', 16)  # 9505, 十六进制 \n",
    "\n",
    "# 5.其他进制互转: 先转成十进制，再转成对应进制 \n",
    "bin(int('0x252a4', 16))  # '0b100101001010100100', 十六->十->二 \n",
    "oct(int('0b10001110111', 2))  # '0o2167', 二->十->八 \n",
    "\n",
    "# python固定在内存的int数据 \n",
    "x = 0 \n",
    "for y in range(10000): \n",
    "    x = int(str(y))     \n",
    "    if id(x) != id(y): \n",
    "        break \n",
    "print(x)  \n",
    "\n",
    "# 257, 也就是说0~256这些int数据是固定在内存的，当变量解绑后，也不会从内存空间释放"
   ]
  },
  {
   "cell_type": "code",
   "execution_count": 19,
   "metadata": {},
   "outputs": [
    {
     "data": {
      "text/plain": [
       "Decimal('0.3999999999999999944488848769')"
      ]
     },
     "execution_count": 19,
     "metadata": {},
     "output_type": "execute_result"
    }
   ],
   "source": [
    "# int转float \n",
    "float(3)  # 3.0 \n",
    "\n",
    "# 小数位设置 \n",
    "round(3.1415926, 1)  # 3.1, 四舍五入保留1位小数 \n",
    "round(3.1415926, 3)  # 3.142, 四舍五入保留3位小数 \n",
    "\n",
    "# 浮点数损失精度问题 \n",
    "0.1 + 0.2 # 按理结果应该是0.3，但实际返回0.30000000000000004 \n",
    "\n",
    "\"\"\" \n",
    "为什么有极小的误差？ \n",
    "因为 Python 中使用双精度浮点数来存储小数。 \n",
    "在 Python 使用的 IEEE 754 标准（52M/11E/1S）中，8字节64位存储空间分配了52位来存储浮点数的有效数字，11位存储指数，1位存储正负号，即这是一种二进制版的科学计数法格式。 \n",
    "虽然52位有效数字看起来很多，但麻烦之处在于，二进制小数在表示有理数时极易遇到无限循环的问题。 \n",
    "其中很多在十进制小数中是有限的，比如十进制的 1/10，在十进制中可以简单写为 0.1 ，但在二进制中，他得写成：0.0001100110011001100110011001100110011001100110011001…..（后面全是 1001 循环）。 \n",
    "因为浮点数只有52位有效数字，从第53位开始，就舍入了。这样就造成了标题里提到的”浮点数精度损失“问题。  \n",
    "舍入（round）的规则为“0 舍 1 入”，所以有时候会稍大一点有时候会稍小一点。 \n",
    "\"\"\" \n",
    "\n",
    "# 为了解决这个位，Python提供了另一种数字类型——Decimal \n",
    "from decimal import Decimal \n",
    "Decimal(\"0.1\") + Decimal(\"0.2\")  # Decimal('0.3') \n",
    "\n",
    "# 注意Decimal内传字符串，如果传float仍会有这个问题 \n",
    "Decimal(0.1) + Decimal(0.3)  # Decimal('0.3999999999999999944488848769')"
   ]
  },
  {
   "cell_type": "code",
   "execution_count": 20,
   "metadata": {},
   "outputs": [
    {
     "data": {
      "text/plain": [
       "(2.5-3.6j)"
      ]
     },
     "execution_count": 20,
     "metadata": {},
     "output_type": "execute_result"
    }
   ],
   "source": [
    "# 获取实部虚部 \n",
    "x = 2.5+3.6j \n",
    "x.real  # 2.5, 实部 \n",
    "x.imag  # 3.6, 虚部 \n",
    "\n",
    "# 共轭复数 \n",
    "x.conjugate()  # (2.5-3.6j)"
   ]
  },
  {
   "cell_type": "code",
   "execution_count": 22,
   "metadata": {},
   "outputs": [
    {
     "data": {
      "text/plain": [
       "False"
      ]
     },
     "execution_count": 22,
     "metadata": {},
     "output_type": "execute_result"
    }
   ],
   "source": [
    "# int转bool, 除了0为False，其余都是True \n",
    "bool(0)  # Flase \n",
    "bool(12)  # True \n",
    "bool(-345)  # True \n",
    "\n",
    "# float转bool, 同理 \n",
    "bool(0.0)  # Flase \n",
    "bool(3.14)  # True \n",
    "bool(-23.455)  # True \n",
    "\n",
    "# complex转bool, 同理 \n",
    "bool(0.0+0j)  # Flase \n",
    "bool(3.14+1.2j)  # True \n",
    "bool(-23.455-2j)  # True \n",
    "\n",
    "# 所有对象都能转bool，包括bool类型 \n",
    "bool(True)  # True \n",
    "bool(False)  # False \n",
    "\n",
    "# 从上面可以看出，表示0的其布尔值基本都是False \n",
    "# 表示假(错)的其布尔值基本都是False \n",
    "# 表示空(None，空字符串，空列表，空元组，空字典)的其布尔值基本都是False"
   ]
  },
  {
   "cell_type": "code",
   "execution_count": null,
   "metadata": {},
   "outputs": [],
   "source": []
  }
 ],
 "metadata": {
  "kernelspec": {
   "display_name": "Python 3",
   "language": "python",
   "name": "python3"
  },
  "language_info": {
   "codemirror_mode": {
    "name": "ipython",
    "version": 3
   },
   "file_extension": ".py",
   "mimetype": "text/x-python",
   "name": "python",
   "nbconvert_exporter": "python",
   "pygments_lexer": "ipython3",
   "version": "3.8.3"
  }
 },
 "nbformat": 4,
 "nbformat_minor": 4
}
